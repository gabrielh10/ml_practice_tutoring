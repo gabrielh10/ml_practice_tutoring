{
  "cells": [
    {
      "cell_type": "markdown",
      "metadata": {
        "id": "3COS7c-3nOKH"
      },
      "source": [
        "# Multilayer Perceptron\n",
        "\n",
        "***"
      ]
    },
    {
      "cell_type": "code",
      "source": [
        "pip install ucimlrepo"
      ],
      "metadata": {
        "colab": {
          "base_uri": "https://localhost:8080/"
        },
        "id": "xoQAog_ZqzTC",
        "outputId": "33420e76-97e0-47f3-e8f8-d550c6356fe2"
      },
      "execution_count": 1,
      "outputs": [
        {
          "output_type": "stream",
          "name": "stdout",
          "text": [
            "Collecting ucimlrepo\n",
            "  Downloading ucimlrepo-0.0.7-py3-none-any.whl.metadata (5.5 kB)\n",
            "Requirement already satisfied: pandas>=1.0.0 in /usr/local/lib/python3.11/dist-packages (from ucimlrepo) (2.2.2)\n",
            "Requirement already satisfied: certifi>=2020.12.5 in /usr/local/lib/python3.11/dist-packages (from ucimlrepo) (2025.7.14)\n",
            "Requirement already satisfied: numpy>=1.23.2 in /usr/local/lib/python3.11/dist-packages (from pandas>=1.0.0->ucimlrepo) (2.0.2)\n",
            "Requirement already satisfied: python-dateutil>=2.8.2 in /usr/local/lib/python3.11/dist-packages (from pandas>=1.0.0->ucimlrepo) (2.9.0.post0)\n",
            "Requirement already satisfied: pytz>=2020.1 in /usr/local/lib/python3.11/dist-packages (from pandas>=1.0.0->ucimlrepo) (2025.2)\n",
            "Requirement already satisfied: tzdata>=2022.7 in /usr/local/lib/python3.11/dist-packages (from pandas>=1.0.0->ucimlrepo) (2025.2)\n",
            "Requirement already satisfied: six>=1.5 in /usr/local/lib/python3.11/dist-packages (from python-dateutil>=2.8.2->pandas>=1.0.0->ucimlrepo) (1.17.0)\n",
            "Downloading ucimlrepo-0.0.7-py3-none-any.whl (8.0 kB)\n",
            "Installing collected packages: ucimlrepo\n",
            "Successfully installed ucimlrepo-0.0.7\n"
          ]
        }
      ]
    },
    {
      "cell_type": "markdown",
      "metadata": {
        "id": "cQXMvlXdnOKI"
      },
      "source": [
        "## Importando bibliotecas"
      ]
    },
    {
      "cell_type": "code",
      "execution_count": 2,
      "metadata": {
        "id": "-QBt45YQnOKI"
      },
      "outputs": [],
      "source": [
        "# Bibliotecas de manipualção e visualização de dados\n",
        "import numpy as np\n",
        "import pandas as pd\n",
        "import matplotlib.pyplot as plt\n",
        "from mlxtend.plotting import plot_decision_regions\n",
        "\n",
        "# Classes do modelo\n",
        "from sklearn.neural_network import MLPClassifier\n",
        "\n",
        "# Funções de avaliação dos modelos\n",
        "from sklearn.metrics import classification_report, confusion_matrix, ConfusionMatrixDisplay\n",
        "from sklearn.model_selection import train_test_split\n",
        "\n",
        "# Aux imports for parameters search\n",
        "from sklearn.model_selection import RandomizedSearchCV\n",
        "from scipy.stats import uniform, randint\n",
        "\n",
        "import warnings\n",
        "warnings.filterwarnings('ignore')"
      ]
    },
    {
      "cell_type": "markdown",
      "metadata": {
        "id": "ZCk2TOpInOKI"
      },
      "source": [
        "### conjunto de dados"
      ]
    },
    {
      "cell_type": "code",
      "execution_count": 3,
      "metadata": {
        "colab": {
          "base_uri": "https://localhost:8080/",
          "height": 424
        },
        "id": "1sWtlUo4nOKJ",
        "outputId": "1284c1a0-ffe8-4843-f4f6-41a48460574e"
      },
      "outputs": [
        {
          "output_type": "execute_result",
          "data": {
            "text/plain": [
              "     sepal length  sepal width  petal length  petal width           class\n",
              "0             5.1          3.5           1.4          0.2     Iris-setosa\n",
              "1             4.9          3.0           1.4          0.2     Iris-setosa\n",
              "2             4.7          3.2           1.3          0.2     Iris-setosa\n",
              "3             4.6          3.1           1.5          0.2     Iris-setosa\n",
              "4             5.0          3.6           1.4          0.2     Iris-setosa\n",
              "..            ...          ...           ...          ...             ...\n",
              "145           6.7          3.0           5.2          2.3  Iris-virginica\n",
              "146           6.3          2.5           5.0          1.9  Iris-virginica\n",
              "147           6.5          3.0           5.2          2.0  Iris-virginica\n",
              "148           6.2          3.4           5.4          2.3  Iris-virginica\n",
              "149           5.9          3.0           5.1          1.8  Iris-virginica\n",
              "\n",
              "[150 rows x 5 columns]"
            ],
            "text/html": [
              "\n",
              "  <div id=\"df-5a11bd79-f60e-4ed9-8363-d02348225c7d\" class=\"colab-df-container\">\n",
              "    <div>\n",
              "<style scoped>\n",
              "    .dataframe tbody tr th:only-of-type {\n",
              "        vertical-align: middle;\n",
              "    }\n",
              "\n",
              "    .dataframe tbody tr th {\n",
              "        vertical-align: top;\n",
              "    }\n",
              "\n",
              "    .dataframe thead th {\n",
              "        text-align: right;\n",
              "    }\n",
              "</style>\n",
              "<table border=\"1\" class=\"dataframe\">\n",
              "  <thead>\n",
              "    <tr style=\"text-align: right;\">\n",
              "      <th></th>\n",
              "      <th>sepal length</th>\n",
              "      <th>sepal width</th>\n",
              "      <th>petal length</th>\n",
              "      <th>petal width</th>\n",
              "      <th>class</th>\n",
              "    </tr>\n",
              "  </thead>\n",
              "  <tbody>\n",
              "    <tr>\n",
              "      <th>0</th>\n",
              "      <td>5.1</td>\n",
              "      <td>3.5</td>\n",
              "      <td>1.4</td>\n",
              "      <td>0.2</td>\n",
              "      <td>Iris-setosa</td>\n",
              "    </tr>\n",
              "    <tr>\n",
              "      <th>1</th>\n",
              "      <td>4.9</td>\n",
              "      <td>3.0</td>\n",
              "      <td>1.4</td>\n",
              "      <td>0.2</td>\n",
              "      <td>Iris-setosa</td>\n",
              "    </tr>\n",
              "    <tr>\n",
              "      <th>2</th>\n",
              "      <td>4.7</td>\n",
              "      <td>3.2</td>\n",
              "      <td>1.3</td>\n",
              "      <td>0.2</td>\n",
              "      <td>Iris-setosa</td>\n",
              "    </tr>\n",
              "    <tr>\n",
              "      <th>3</th>\n",
              "      <td>4.6</td>\n",
              "      <td>3.1</td>\n",
              "      <td>1.5</td>\n",
              "      <td>0.2</td>\n",
              "      <td>Iris-setosa</td>\n",
              "    </tr>\n",
              "    <tr>\n",
              "      <th>4</th>\n",
              "      <td>5.0</td>\n",
              "      <td>3.6</td>\n",
              "      <td>1.4</td>\n",
              "      <td>0.2</td>\n",
              "      <td>Iris-setosa</td>\n",
              "    </tr>\n",
              "    <tr>\n",
              "      <th>...</th>\n",
              "      <td>...</td>\n",
              "      <td>...</td>\n",
              "      <td>...</td>\n",
              "      <td>...</td>\n",
              "      <td>...</td>\n",
              "    </tr>\n",
              "    <tr>\n",
              "      <th>145</th>\n",
              "      <td>6.7</td>\n",
              "      <td>3.0</td>\n",
              "      <td>5.2</td>\n",
              "      <td>2.3</td>\n",
              "      <td>Iris-virginica</td>\n",
              "    </tr>\n",
              "    <tr>\n",
              "      <th>146</th>\n",
              "      <td>6.3</td>\n",
              "      <td>2.5</td>\n",
              "      <td>5.0</td>\n",
              "      <td>1.9</td>\n",
              "      <td>Iris-virginica</td>\n",
              "    </tr>\n",
              "    <tr>\n",
              "      <th>147</th>\n",
              "      <td>6.5</td>\n",
              "      <td>3.0</td>\n",
              "      <td>5.2</td>\n",
              "      <td>2.0</td>\n",
              "      <td>Iris-virginica</td>\n",
              "    </tr>\n",
              "    <tr>\n",
              "      <th>148</th>\n",
              "      <td>6.2</td>\n",
              "      <td>3.4</td>\n",
              "      <td>5.4</td>\n",
              "      <td>2.3</td>\n",
              "      <td>Iris-virginica</td>\n",
              "    </tr>\n",
              "    <tr>\n",
              "      <th>149</th>\n",
              "      <td>5.9</td>\n",
              "      <td>3.0</td>\n",
              "      <td>5.1</td>\n",
              "      <td>1.8</td>\n",
              "      <td>Iris-virginica</td>\n",
              "    </tr>\n",
              "  </tbody>\n",
              "</table>\n",
              "<p>150 rows × 5 columns</p>\n",
              "</div>\n",
              "    <div class=\"colab-df-buttons\">\n",
              "\n",
              "  <div class=\"colab-df-container\">\n",
              "    <button class=\"colab-df-convert\" onclick=\"convertToInteractive('df-5a11bd79-f60e-4ed9-8363-d02348225c7d')\"\n",
              "            title=\"Convert this dataframe to an interactive table.\"\n",
              "            style=\"display:none;\">\n",
              "\n",
              "  <svg xmlns=\"http://www.w3.org/2000/svg\" height=\"24px\" viewBox=\"0 -960 960 960\">\n",
              "    <path d=\"M120-120v-720h720v720H120Zm60-500h600v-160H180v160Zm220 220h160v-160H400v160Zm0 220h160v-160H400v160ZM180-400h160v-160H180v160Zm440 0h160v-160H620v160ZM180-180h160v-160H180v160Zm440 0h160v-160H620v160Z\"/>\n",
              "  </svg>\n",
              "    </button>\n",
              "\n",
              "  <style>\n",
              "    .colab-df-container {\n",
              "      display:flex;\n",
              "      gap: 12px;\n",
              "    }\n",
              "\n",
              "    .colab-df-convert {\n",
              "      background-color: #E8F0FE;\n",
              "      border: none;\n",
              "      border-radius: 50%;\n",
              "      cursor: pointer;\n",
              "      display: none;\n",
              "      fill: #1967D2;\n",
              "      height: 32px;\n",
              "      padding: 0 0 0 0;\n",
              "      width: 32px;\n",
              "    }\n",
              "\n",
              "    .colab-df-convert:hover {\n",
              "      background-color: #E2EBFA;\n",
              "      box-shadow: 0px 1px 2px rgba(60, 64, 67, 0.3), 0px 1px 3px 1px rgba(60, 64, 67, 0.15);\n",
              "      fill: #174EA6;\n",
              "    }\n",
              "\n",
              "    .colab-df-buttons div {\n",
              "      margin-bottom: 4px;\n",
              "    }\n",
              "\n",
              "    [theme=dark] .colab-df-convert {\n",
              "      background-color: #3B4455;\n",
              "      fill: #D2E3FC;\n",
              "    }\n",
              "\n",
              "    [theme=dark] .colab-df-convert:hover {\n",
              "      background-color: #434B5C;\n",
              "      box-shadow: 0px 1px 3px 1px rgba(0, 0, 0, 0.15);\n",
              "      filter: drop-shadow(0px 1px 2px rgba(0, 0, 0, 0.3));\n",
              "      fill: #FFFFFF;\n",
              "    }\n",
              "  </style>\n",
              "\n",
              "    <script>\n",
              "      const buttonEl =\n",
              "        document.querySelector('#df-5a11bd79-f60e-4ed9-8363-d02348225c7d button.colab-df-convert');\n",
              "      buttonEl.style.display =\n",
              "        google.colab.kernel.accessAllowed ? 'block' : 'none';\n",
              "\n",
              "      async function convertToInteractive(key) {\n",
              "        const element = document.querySelector('#df-5a11bd79-f60e-4ed9-8363-d02348225c7d');\n",
              "        const dataTable =\n",
              "          await google.colab.kernel.invokeFunction('convertToInteractive',\n",
              "                                                    [key], {});\n",
              "        if (!dataTable) return;\n",
              "\n",
              "        const docLinkHtml = 'Like what you see? Visit the ' +\n",
              "          '<a target=\"_blank\" href=https://colab.research.google.com/notebooks/data_table.ipynb>data table notebook</a>'\n",
              "          + ' to learn more about interactive tables.';\n",
              "        element.innerHTML = '';\n",
              "        dataTable['output_type'] = 'display_data';\n",
              "        await google.colab.output.renderOutput(dataTable, element);\n",
              "        const docLink = document.createElement('div');\n",
              "        docLink.innerHTML = docLinkHtml;\n",
              "        element.appendChild(docLink);\n",
              "      }\n",
              "    </script>\n",
              "  </div>\n",
              "\n",
              "\n",
              "    <div id=\"df-0b469e03-0746-4336-bdf8-c7a92b0cb939\">\n",
              "      <button class=\"colab-df-quickchart\" onclick=\"quickchart('df-0b469e03-0746-4336-bdf8-c7a92b0cb939')\"\n",
              "                title=\"Suggest charts\"\n",
              "                style=\"display:none;\">\n",
              "\n",
              "<svg xmlns=\"http://www.w3.org/2000/svg\" height=\"24px\"viewBox=\"0 0 24 24\"\n",
              "     width=\"24px\">\n",
              "    <g>\n",
              "        <path d=\"M19 3H5c-1.1 0-2 .9-2 2v14c0 1.1.9 2 2 2h14c1.1 0 2-.9 2-2V5c0-1.1-.9-2-2-2zM9 17H7v-7h2v7zm4 0h-2V7h2v10zm4 0h-2v-4h2v4z\"/>\n",
              "    </g>\n",
              "</svg>\n",
              "      </button>\n",
              "\n",
              "<style>\n",
              "  .colab-df-quickchart {\n",
              "      --bg-color: #E8F0FE;\n",
              "      --fill-color: #1967D2;\n",
              "      --hover-bg-color: #E2EBFA;\n",
              "      --hover-fill-color: #174EA6;\n",
              "      --disabled-fill-color: #AAA;\n",
              "      --disabled-bg-color: #DDD;\n",
              "  }\n",
              "\n",
              "  [theme=dark] .colab-df-quickchart {\n",
              "      --bg-color: #3B4455;\n",
              "      --fill-color: #D2E3FC;\n",
              "      --hover-bg-color: #434B5C;\n",
              "      --hover-fill-color: #FFFFFF;\n",
              "      --disabled-bg-color: #3B4455;\n",
              "      --disabled-fill-color: #666;\n",
              "  }\n",
              "\n",
              "  .colab-df-quickchart {\n",
              "    background-color: var(--bg-color);\n",
              "    border: none;\n",
              "    border-radius: 50%;\n",
              "    cursor: pointer;\n",
              "    display: none;\n",
              "    fill: var(--fill-color);\n",
              "    height: 32px;\n",
              "    padding: 0;\n",
              "    width: 32px;\n",
              "  }\n",
              "\n",
              "  .colab-df-quickchart:hover {\n",
              "    background-color: var(--hover-bg-color);\n",
              "    box-shadow: 0 1px 2px rgba(60, 64, 67, 0.3), 0 1px 3px 1px rgba(60, 64, 67, 0.15);\n",
              "    fill: var(--button-hover-fill-color);\n",
              "  }\n",
              "\n",
              "  .colab-df-quickchart-complete:disabled,\n",
              "  .colab-df-quickchart-complete:disabled:hover {\n",
              "    background-color: var(--disabled-bg-color);\n",
              "    fill: var(--disabled-fill-color);\n",
              "    box-shadow: none;\n",
              "  }\n",
              "\n",
              "  .colab-df-spinner {\n",
              "    border: 2px solid var(--fill-color);\n",
              "    border-color: transparent;\n",
              "    border-bottom-color: var(--fill-color);\n",
              "    animation:\n",
              "      spin 1s steps(1) infinite;\n",
              "  }\n",
              "\n",
              "  @keyframes spin {\n",
              "    0% {\n",
              "      border-color: transparent;\n",
              "      border-bottom-color: var(--fill-color);\n",
              "      border-left-color: var(--fill-color);\n",
              "    }\n",
              "    20% {\n",
              "      border-color: transparent;\n",
              "      border-left-color: var(--fill-color);\n",
              "      border-top-color: var(--fill-color);\n",
              "    }\n",
              "    30% {\n",
              "      border-color: transparent;\n",
              "      border-left-color: var(--fill-color);\n",
              "      border-top-color: var(--fill-color);\n",
              "      border-right-color: var(--fill-color);\n",
              "    }\n",
              "    40% {\n",
              "      border-color: transparent;\n",
              "      border-right-color: var(--fill-color);\n",
              "      border-top-color: var(--fill-color);\n",
              "    }\n",
              "    60% {\n",
              "      border-color: transparent;\n",
              "      border-right-color: var(--fill-color);\n",
              "    }\n",
              "    80% {\n",
              "      border-color: transparent;\n",
              "      border-right-color: var(--fill-color);\n",
              "      border-bottom-color: var(--fill-color);\n",
              "    }\n",
              "    90% {\n",
              "      border-color: transparent;\n",
              "      border-bottom-color: var(--fill-color);\n",
              "    }\n",
              "  }\n",
              "</style>\n",
              "\n",
              "      <script>\n",
              "        async function quickchart(key) {\n",
              "          const quickchartButtonEl =\n",
              "            document.querySelector('#' + key + ' button');\n",
              "          quickchartButtonEl.disabled = true;  // To prevent multiple clicks.\n",
              "          quickchartButtonEl.classList.add('colab-df-spinner');\n",
              "          try {\n",
              "            const charts = await google.colab.kernel.invokeFunction(\n",
              "                'suggestCharts', [key], {});\n",
              "          } catch (error) {\n",
              "            console.error('Error during call to suggestCharts:', error);\n",
              "          }\n",
              "          quickchartButtonEl.classList.remove('colab-df-spinner');\n",
              "          quickchartButtonEl.classList.add('colab-df-quickchart-complete');\n",
              "        }\n",
              "        (() => {\n",
              "          let quickchartButtonEl =\n",
              "            document.querySelector('#df-0b469e03-0746-4336-bdf8-c7a92b0cb939 button');\n",
              "          quickchartButtonEl.style.display =\n",
              "            google.colab.kernel.accessAllowed ? 'block' : 'none';\n",
              "        })();\n",
              "      </script>\n",
              "    </div>\n",
              "\n",
              "  <div id=\"id_d685fcf7-c3f2-498e-ac81-7f1712eec4d6\">\n",
              "    <style>\n",
              "      .colab-df-generate {\n",
              "        background-color: #E8F0FE;\n",
              "        border: none;\n",
              "        border-radius: 50%;\n",
              "        cursor: pointer;\n",
              "        display: none;\n",
              "        fill: #1967D2;\n",
              "        height: 32px;\n",
              "        padding: 0 0 0 0;\n",
              "        width: 32px;\n",
              "      }\n",
              "\n",
              "      .colab-df-generate:hover {\n",
              "        background-color: #E2EBFA;\n",
              "        box-shadow: 0px 1px 2px rgba(60, 64, 67, 0.3), 0px 1px 3px 1px rgba(60, 64, 67, 0.15);\n",
              "        fill: #174EA6;\n",
              "      }\n",
              "\n",
              "      [theme=dark] .colab-df-generate {\n",
              "        background-color: #3B4455;\n",
              "        fill: #D2E3FC;\n",
              "      }\n",
              "\n",
              "      [theme=dark] .colab-df-generate:hover {\n",
              "        background-color: #434B5C;\n",
              "        box-shadow: 0px 1px 3px 1px rgba(0, 0, 0, 0.15);\n",
              "        filter: drop-shadow(0px 1px 2px rgba(0, 0, 0, 0.3));\n",
              "        fill: #FFFFFF;\n",
              "      }\n",
              "    </style>\n",
              "    <button class=\"colab-df-generate\" onclick=\"generateWithVariable('dataset')\"\n",
              "            title=\"Generate code using this dataframe.\"\n",
              "            style=\"display:none;\">\n",
              "\n",
              "  <svg xmlns=\"http://www.w3.org/2000/svg\" height=\"24px\"viewBox=\"0 0 24 24\"\n",
              "       width=\"24px\">\n",
              "    <path d=\"M7,19H8.4L18.45,9,17,7.55,7,17.6ZM5,21V16.75L18.45,3.32a2,2,0,0,1,2.83,0l1.4,1.43a1.91,1.91,0,0,1,.58,1.4,1.91,1.91,0,0,1-.58,1.4L9.25,21ZM18.45,9,17,7.55Zm-12,3A5.31,5.31,0,0,0,4.9,8.1,5.31,5.31,0,0,0,1,6.5,5.31,5.31,0,0,0,4.9,4.9,5.31,5.31,0,0,0,6.5,1,5.31,5.31,0,0,0,8.1,4.9,5.31,5.31,0,0,0,12,6.5,5.46,5.46,0,0,0,6.5,12Z\"/>\n",
              "  </svg>\n",
              "    </button>\n",
              "    <script>\n",
              "      (() => {\n",
              "      const buttonEl =\n",
              "        document.querySelector('#id_d685fcf7-c3f2-498e-ac81-7f1712eec4d6 button.colab-df-generate');\n",
              "      buttonEl.style.display =\n",
              "        google.colab.kernel.accessAllowed ? 'block' : 'none';\n",
              "\n",
              "      buttonEl.onclick = () => {\n",
              "        google.colab.notebook.generateWithVariable('dataset');\n",
              "      }\n",
              "      })();\n",
              "    </script>\n",
              "  </div>\n",
              "\n",
              "    </div>\n",
              "  </div>\n"
            ],
            "application/vnd.google.colaboratory.intrinsic+json": {
              "type": "dataframe",
              "variable_name": "dataset",
              "summary": "{\n  \"name\": \"dataset\",\n  \"rows\": 150,\n  \"fields\": [\n    {\n      \"column\": \"sepal length\",\n      \"properties\": {\n        \"dtype\": \"number\",\n        \"std\": 0.8280661279778629,\n        \"min\": 4.3,\n        \"max\": 7.9,\n        \"num_unique_values\": 35,\n        \"samples\": [\n          6.2,\n          4.5,\n          5.6\n        ],\n        \"semantic_type\": \"\",\n        \"description\": \"\"\n      }\n    },\n    {\n      \"column\": \"sepal width\",\n      \"properties\": {\n        \"dtype\": \"number\",\n        \"std\": 0.4335943113621737,\n        \"min\": 2.0,\n        \"max\": 4.4,\n        \"num_unique_values\": 23,\n        \"samples\": [\n          2.3,\n          4.0,\n          3.5\n        ],\n        \"semantic_type\": \"\",\n        \"description\": \"\"\n      }\n    },\n    {\n      \"column\": \"petal length\",\n      \"properties\": {\n        \"dtype\": \"number\",\n        \"std\": 1.7644204199522617,\n        \"min\": 1.0,\n        \"max\": 6.9,\n        \"num_unique_values\": 43,\n        \"samples\": [\n          6.7,\n          3.8,\n          3.7\n        ],\n        \"semantic_type\": \"\",\n        \"description\": \"\"\n      }\n    },\n    {\n      \"column\": \"petal width\",\n      \"properties\": {\n        \"dtype\": \"number\",\n        \"std\": 0.7631607417008414,\n        \"min\": 0.1,\n        \"max\": 2.5,\n        \"num_unique_values\": 22,\n        \"samples\": [\n          0.2,\n          1.2,\n          1.3\n        ],\n        \"semantic_type\": \"\",\n        \"description\": \"\"\n      }\n    },\n    {\n      \"column\": \"class\",\n      \"properties\": {\n        \"dtype\": \"category\",\n        \"num_unique_values\": 3,\n        \"samples\": [\n          \"Iris-setosa\",\n          \"Iris-versicolor\",\n          \"Iris-virginica\"\n        ],\n        \"semantic_type\": \"\",\n        \"description\": \"\"\n      }\n    }\n  ]\n}"
            }
          },
          "metadata": {},
          "execution_count": 3
        }
      ],
      "source": [
        "from ucimlrepo import fetch_ucirepo\n",
        "\n",
        "# fetch dataset\n",
        "iris = fetch_ucirepo(id=53)\n",
        "\n",
        "# data (as pandas dataframes)\n",
        "X = iris.data.features\n",
        "y = iris.data.targets\n",
        "\n",
        "\n",
        "dataset = pd.concat([X,y], axis=1)\n",
        "dataset"
      ]
    },
    {
      "cell_type": "markdown",
      "metadata": {
        "id": "ubJeNok2nOKJ"
      },
      "source": [
        "## Treinamento do modelo"
      ]
    },
    {
      "cell_type": "markdown",
      "metadata": {
        "id": "3mLIwZzAnOKJ"
      },
      "source": [
        "Vamos estudar a implementação do [MLP no sklearn](https://scikit-learn.org/stable/modules/generated/sklearn.neural_network.MLPClassifier.html). Primeiro, o MLPClassifier treina iterativamente, já que em cada passo de otimização, as derivadas parciais da função de custo (loss function) em relação aos parâmetros da rede (pesos e bias de cada camada) são calculadas.\n",
        "\n",
        "O método de inicialização usado foi proposto em: Glorot, Xavier, and Yoshua Bengio. “Understanding the difficulty of training deep feedforward neural networks.” International Conference on Artificial Intelligence and Statistics. 2010.\n",
        "\n",
        "Alguns parâmetros importantes no MLP:\n",
        "\n",
        "- **hidden_layer_sizes**: Tupla que controla a profundidade (quantidade de camadas) e números de neurônios por cada camada escondida. Por exemplo: (100, 10,) cria uma rede com 100 neuronios na primeira camada escondida e 10 na segunda camada. O número de neurônios na entrada da rede é o número de features. A saída da ultima camada escondida tem o tamanho da quantidade de classes ou dimensões (regressão).\n",
        "\n",
        "- **activation**: Define {‘identity’, ‘logistic’, ‘tanh’, ‘relu’} funções de ativação.\n",
        "    - identity: $f(x) = x$\n",
        "    - logistic: $1 / (1 + e^{-x})$\n",
        "    - tanh: $tanh(x)$\n",
        "    - relu: $max(0, x)$\n",
        "\n",
        "- **batch_size**: default='auto'. Tamanho do batch de treinamento, se for mantido em \"auto\", $batch\\_size=min(200, n\\_samples)$.\n",
        "\n",
        "- **random_state**: default= 'none'. Determina a geração de números aleatórios para inicialização dos pesos e bias, divisão de teste de treinamento se a parada antecipada for usada e amostragem em lote quando solver='sgd' ou 'adam'. Passe um int para resultados reproduzíveis em várias chamadas de função.\n",
        "\n",
        "- **solver**: default='adam'. Algoritmo de resolução do problema de otimização de pesos. Pode assumir os seguintes valores: {‘lbfgs’, ‘sgd’, ‘adam’}\n",
        "\n",
        "- **learning_rate**: default=’constant’ Esquema de redução de _learning_rate_. Caso seja constante, a mesma _learning_rate_ no início do treino segue até o fim.\n",
        "\n",
        "- **max_iter**: default=200 Número máximo de iterações, caso o modelo não atinja convergência.\n",
        "\n",
        "- **tol**: default=1e-4 (0.0001). Caso a função de custo no treinamento não melhorar mais do que _tol_, é considerado que o modelo atingiu convergência.\n",
        "\n",
        "- **early_stopping**: default=False Se esse parâmetro for verdadeiro, separa automaticamente uma fração do dataset de treino em um dataset de validação, de tamanho validation_fraction_."
      ]
    },
    {
      "cell_type": "code",
      "execution_count": 4,
      "metadata": {
        "colab": {
          "base_uri": "https://localhost:8080/"
        },
        "id": "sgmqKVWvnOKJ",
        "outputId": "dc97c4a4-e73e-4f25-b82c-28c36f53aeeb"
      },
      "outputs": [
        {
          "output_type": "execute_result",
          "data": {
            "text/plain": [
              "((105, 2), (45, 2))"
            ]
          },
          "metadata": {},
          "execution_count": 4
        }
      ],
      "source": [
        "#Vamos usar somente duas features PetalLengthCm e PetalWidthCm\n",
        "X = dataset.iloc[:,[2,3]]\n",
        "y = dataset.iloc[:,[4]]\n",
        "\n",
        "#Definindo semente\n",
        "seed=42\n",
        "\n",
        "#Mapeando os valores da classe para inteiro (para fins de visualização da região de decisão)\n",
        "y = pd.factorize(dataset['class'])[0]\n",
        "\n",
        "#Separando o conjunto de dados em treinamento e teste\n",
        "X_train, X_test, y_train, y_test = train_test_split(X, y, test_size=0.3, random_state=seed)\n",
        "X_train.shape, X_test.shape"
      ]
    },
    {
      "cell_type": "markdown",
      "metadata": {
        "id": "_ZgTNSi5nOKJ"
      },
      "source": [
        "**Vamos analisar os valores default**"
      ]
    },
    {
      "cell_type": "code",
      "execution_count": 5,
      "metadata": {
        "colab": {
          "base_uri": "https://localhost:8080/"
        },
        "id": "guqiPGPWnOKJ",
        "outputId": "e38e7dee-48fb-465f-ee55-01508c133827"
      },
      "outputs": [
        {
          "output_type": "stream",
          "name": "stdout",
          "text": [
            "MLPClassifier(random_state=42)\n",
            "              precision    recall  f1-score   support\n",
            "\n",
            "           0       1.00      1.00      1.00        19\n",
            "           1       1.00      0.85      0.92        13\n",
            "           2       0.87      1.00      0.93        13\n",
            "\n",
            "    accuracy                           0.96        45\n",
            "   macro avg       0.96      0.95      0.95        45\n",
            "weighted avg       0.96      0.96      0.96        45\n",
            "\n"
          ]
        }
      ],
      "source": [
        "model = MLPClassifier(random_state=seed)\n",
        "#treinando o modelo\n",
        "model.fit(X_train, y_train)\n",
        "\n",
        "#Resultados do classificador\n",
        "print(model)\n",
        "\n",
        "#Resultados do classificador\n",
        "print(classification_report(y_test, model.predict(X_test)))\n",
        "# print(\"Treinamento score %.2f\" %(model.score(X_train, y_train)))\n",
        "# print(\"Teste score %.2f\" %(model.score(X_test, y_test)))"
      ]
    },
    {
      "cell_type": "code",
      "execution_count": 6,
      "metadata": {
        "colab": {
          "base_uri": "https://localhost:8080/",
          "height": 447
        },
        "id": "JkPSauC9nOKK",
        "outputId": "1876ba1d-31e3-4a7d-c930-a5eb0df9413d"
      },
      "outputs": [
        {
          "output_type": "execute_result",
          "data": {
            "text/plain": [
              "[<matplotlib.lines.Line2D at 0x7cf2beb096d0>]"
            ]
          },
          "metadata": {},
          "execution_count": 6
        },
        {
          "output_type": "display_data",
          "data": {
            "text/plain": [
              "<Figure size 640x480 with 1 Axes>"
            ],
            "image/png": "[encoded data removed]"
          },
          "metadata": {}
        }
      ],
      "source": [
        "# como se comportou o treinamento do modelo?\n",
        "plt.plot(model.loss_curve_)"
      ]
    },
    {
      "cell_type": "code",
      "execution_count": 7,
      "metadata": {
        "colab": {
          "base_uri": "https://localhost:8080/",
          "height": 472
        },
        "id": "mEj7qReynOKK",
        "outputId": "cd799f25-3f00-4a60-8ff5-2bde90ba2348"
      },
      "outputs": [
        {
          "output_type": "display_data",
          "data": {
            "text/plain": [
              "<Figure size 640x480 with 1 Axes>"
            ],
            "image/png": "[encoded data removed]"
          },
          "metadata": {}
        }
      ],
      "source": [
        "def show_decision_region(X, y, model):\n",
        "    feature_0 = X.columns[0]\n",
        "    feature_1 = X.columns[1]\n",
        "\n",
        "    plot_decision_regions(np.array([X[feature_0].values,\n",
        "                                    X[feature_1].values]).T,\n",
        "                                    y, model)\n",
        "    plt.xlabel(feature_0)\n",
        "    plt.ylabel(feature_1)\n",
        "\n",
        "    plt.title(model.__class__.__name__)\n",
        "    plt.show()\n",
        "\n",
        "show_decision_region(X_test, y_test, model)"
      ]
    },
    {
      "cell_type": "markdown",
      "metadata": {
        "id": "vkGuy811nOKK"
      },
      "source": [
        "## Avaliando o modelo com diferentes parâmetros"
      ]
    },
    {
      "cell_type": "code",
      "execution_count": 8,
      "metadata": {
        "colab": {
          "base_uri": "https://localhost:8080/"
        },
        "id": "CdYgZTKfnOKK",
        "outputId": "a052666f-2619-4cdd-c6fe-4b307d47de1c"
      },
      "outputs": [
        {
          "output_type": "stream",
          "name": "stdout",
          "text": [
            "X_train_ shape:  (73, 2)\n",
            "X_test shape:  (45, 2)\n",
            "X_val shape:  (32, 2)\n",
            "\n",
            "\n",
            "y_train_: 2    27\n",
            "1    26\n",
            "0    20\n",
            "Name: count, dtype: int64\n",
            "y_test: 0    19\n",
            "1    13\n",
            "2    13\n",
            "Name: count, dtype: int64\n",
            "y_val: 1    11\n",
            "0    11\n",
            "2    10\n",
            "Name: count, dtype: int64\n"
          ]
        }
      ],
      "source": [
        "#Separando o conjunto de dados em treinamento e teste\n",
        "X_train, X_test, y_train, y_test = train_test_split(X, y, test_size=0.3, random_state=seed)\n",
        "\n",
        "#Separando o conjutno de treinamento em treinamento e validação (para ajuste dos parâmetros)\n",
        "X_train_, X_val, y_train_, y_val = train_test_split(X_train, y_train, test_size=0.3, random_state=seed)\n",
        "\n",
        "print(\"X_train_ shape: \", X_train_.shape)\n",
        "print(\"X_test shape: \", X_test.shape)\n",
        "print(\"X_val shape: \", X_val.shape)\n",
        "print(\"\\n\")\n",
        "print(\"y_train_:\", pd.Series(y_train_).value_counts())\n",
        "print(\"y_test:\", pd.Series(y_test).value_counts())\n",
        "print(\"y_val:\", pd.Series(y_val).value_counts())"
      ]
    },
    {
      "cell_type": "markdown",
      "source": [
        "Talvez usar o parametro \"stratify=y\" no train_test_split seja uma boa ideia..."
      ],
      "metadata": {
        "id": "WbpUVixitWbQ"
      }
    },
    {
      "cell_type": "markdown",
      "metadata": {
        "id": "tl-q0_pMnOKK"
      },
      "source": [
        "### Ajustando o modelo"
      ]
    },
    {
      "cell_type": "markdown",
      "metadata": {
        "id": "Ppfa07H8nOKL"
      },
      "source": [
        "**1 - número de neurônios**"
      ]
    },
    {
      "cell_type": "code",
      "execution_count": 9,
      "metadata": {
        "colab": {
          "base_uri": "https://localhost:8080/"
        },
        "id": "NqifJUO-nOKL",
        "outputId": "9836c898-40d5-4974-feb9-51e01cc6e43d"
      },
      "outputs": [
        {
          "output_type": "stream",
          "name": "stdout",
          "text": [
            "[10, 20, 30, 40, 50, 60, 70, 80, 90, 100, 110, 120, 130, 140, 150, 160, 170, 180, 190, 200]\n"
          ]
        }
      ],
      "source": [
        "n_neuronios = [10*i for i in range(1,21)]\n",
        "print(n_neuronios)\n",
        "train_score = []\n",
        "val_score = []\n",
        "\n",
        "for n in n_neuronios:\n",
        "    model = MLPClassifier(hidden_layer_sizes=n, random_state=seed)\n",
        "    model.fit(X_train_, y_train_)\n",
        "    #Resultados do classificador\n",
        "    train_score.append(model.score(X_train_, y_train_))\n",
        "    val_score.append(model.score(X_val, y_val))"
      ]
    },
    {
      "cell_type": "code",
      "execution_count": 10,
      "metadata": {
        "colab": {
          "base_uri": "https://localhost:8080/",
          "height": 466
        },
        "id": "CnHIPctrnOKL",
        "outputId": "bd9df93c-3e28-41af-8356-303fbb61f0b1"
      },
      "outputs": [
        {
          "output_type": "execute_result",
          "data": {
            "text/plain": [
              "<matplotlib.legend.Legend at 0x7cf2bd8ed250>"
            ]
          },
          "metadata": {},
          "execution_count": 10
        },
        {
          "output_type": "display_data",
          "data": {
            "text/plain": [
              "<Figure size 640x480 with 1 Axes>"
            ],
            "image/png": "[encoded data removed]"
          },
          "metadata": {}
        }
      ],
      "source": [
        "plt.plot(n_neuronios,train_score, label=\"train\" )\n",
        "plt.plot(n_neuronios,val_score, label=\"val\" )\n",
        "plt.xlabel(\"número de neurônios\")\n",
        "plt.ylabel(\"score\")\n",
        "plt.xticks(n_neuronios)\n",
        "plt.legend()"
      ]
    },
    {
      "cell_type": "markdown",
      "metadata": {
        "id": "CVnmLZgHnOKL"
      },
      "source": [
        "**2 - número de camadas**"
      ]
    },
    {
      "cell_type": "code",
      "execution_count": 11,
      "metadata": {
        "id": "r4mfCuv_nOKL",
        "colab": {
          "base_uri": "https://localhost:8080/"
        },
        "outputId": "01d42399-5279-4414-e13a-80c288b4b4e3"
      },
      "outputs": [
        {
          "output_type": "stream",
          "name": "stdout",
          "text": [
            "[128]\n",
            "[128, 128]\n",
            "[128, 128, 128]\n",
            "[128, 128, 128, 128]\n",
            "[128, 128, 128, 128, 128]\n"
          ]
        }
      ],
      "source": [
        "#qual melhor número de neurônios??\n",
        "neu = 128\n",
        "n_camadas = [1,2,3,4,5]\n",
        "\n",
        "train_score = []\n",
        "val_score = []\n",
        "\n",
        "for n in n_camadas:\n",
        "    camadas = [neu for i in range(n)]\n",
        "    print(camadas)\n",
        "    model = MLPClassifier(hidden_layer_sizes=camadas, random_state=seed)\n",
        "    model.fit(X_train_, y_train_)\n",
        "    #Resultados do classificador\n",
        "    # print(model.n_layers_)\n",
        "    train_score.append(model.score(X_train_, y_train_))\n",
        "    val_score.append(model.score(X_val, y_val))"
      ]
    },
    {
      "cell_type": "code",
      "execution_count": 12,
      "metadata": {
        "colab": {
          "base_uri": "https://localhost:8080/",
          "height": 471
        },
        "id": "JuAiJAuSnOKL",
        "outputId": "94ca53db-e3ef-4edf-960b-2e369429916f"
      },
      "outputs": [
        {
          "output_type": "execute_result",
          "data": {
            "text/plain": [
              "<matplotlib.legend.Legend at 0x7cf2bd85f0d0>"
            ]
          },
          "metadata": {},
          "execution_count": 12
        },
        {
          "output_type": "display_data",
          "data": {
            "text/plain": [
              "<Figure size 640x480 with 1 Axes>"
            ],
            "image/png": "[encoded data removed]"
          },
          "metadata": {}
        }
      ],
      "source": [
        "plt.plot(n_camadas,train_score, label=\"train\" )\n",
        "plt.plot(n_camadas,val_score, label=\"val\" )\n",
        "plt.xlabel(\"número de camadas\")\n",
        "plt.ylabel(\"score\")\n",
        "plt.xticks(n_camadas)\n",
        "plt.legend()"
      ]
    },
    {
      "cell_type": "markdown",
      "source": [
        "## Randomized Search"
      ],
      "metadata": {
        "id": "KNdDv0nUw0Et"
      }
    },
    {
      "cell_type": "code",
      "source": [
        "#Vamos usar somente duas features mais dificeis (Sépalas)\n",
        "X = dataset.iloc[:,:-1]\n",
        "y = dataset.iloc[:,[4]]\n",
        "\n",
        "#Separando o conjunto de dados em treinamento e teste\n",
        "X_train, X_test, y_train, y_test = train_test_split(X, y, test_size=0.3, random_state=seed)\n",
        "print(\"X_train_ shape: \", X_train.shape)\n",
        "print(\"X_test shape: \", X_test.shape)"
      ],
      "metadata": {
        "colab": {
          "base_uri": "https://localhost:8080/"
        },
        "id": "2ELvcNa8xlqs",
        "outputId": "247e83c2-16b3-457f-da7e-aa6ad5dab3c9"
      },
      "execution_count": 13,
      "outputs": [
        {
          "output_type": "stream",
          "name": "stdout",
          "text": [
            "X_train_ shape:  (105, 4)\n",
            "X_test shape:  (45, 4)\n"
          ]
        }
      ]
    },
    {
      "cell_type": "code",
      "source": [
        "mlp = MLPClassifier(random_state=seed)\n",
        "\n",
        "param_distributions = {\n",
        "      'hidden_layer_sizes': [(64,), (128,), (64, 128), (32, 64, 128), (64, 128, 32)],\n",
        "      'activation': ['logistic', 'tanh', 'relu'],\n",
        "      'solver': ['lbfgs', 'sgd', 'adam'],\n",
        "      'alpha': uniform(loc=0.0001, scale=0.01), # L2 penalty (regularization)\n",
        "      'learning_rate': ['constant', 'adaptive'],\n",
        "      'max_iter': randint(low=100, high=500) # Maximum number of iterations\n",
        "}\n",
        "\n",
        "random_search = RandomizedSearchCV(\n",
        "        estimator=mlp,\n",
        "        param_distributions=param_distributions,\n",
        "        n_iter=20, # Number of parameter settings that are sampled\n",
        "        cv=5,       # Number of cross-validation folds\n",
        "        scoring='accuracy', # Metric to evaluate the model\n",
        "        random_state=seed,\n",
        "        n_jobs=-1,  # Use all available CPU cores\n",
        "        return_train_score=True\n",
        "        #refit\n",
        ")\n",
        "\n",
        "random_search.fit(X_train, y_train) # X_train and y_train are your training data\n",
        "\n",
        "# Access the cv_results_ dictionary\n",
        "results_dict = random_search.cv_results_\n",
        "\n",
        "# Convert to DataFrame for better readability\n",
        "results_df = pd.DataFrame(results_dict)\n",
        "\n",
        "print(\"Best parameters found:\", random_search.best_params_)\n",
        "print(\"Best cross-validation score:\", random_search.best_score_)\n",
        "\n",
        "results_df"
      ],
      "metadata": {
        "colab": {
          "base_uri": "https://localhost:8080/",
          "height": 761
        },
        "id": "nZiwYh7hwfl-",
        "outputId": "92a67f58-8a5e-46f2-f27d-6af92c07ba37"
      },
      "execution_count": 14,
      "outputs": [
        {
          "output_type": "stream",
          "name": "stdout",
          "text": [
            "Best parameters found: {'activation': 'logistic', 'alpha': np.float64(0.007822447692966574), 'hidden_layer_sizes': (32, 64, 128), 'learning_rate': 'adaptive', 'max_iter': 162, 'solver': 'adam'}\n",
            "Best cross-validation score: 0.980952380952381\n"
          ]
        },
        {
          "output_type": "execute_result",
          "data": {
            "text/plain": [
              "    mean_fit_time  std_fit_time  mean_score_time  std_score_time  \\\n",
              "0        0.425702      0.239983         0.006752        0.000364   \n",
              "1        0.547728      0.156344         0.006896        0.000736   \n",
              "2        0.307270      0.012984         0.007048        0.000931   \n",
              "3        0.404496      0.065145         0.006632        0.000251   \n",
              "4        0.279879      0.004381         0.007993        0.001067   \n",
              "5        0.740220      0.053926         0.009783        0.003668   \n",
              "6        0.466728      0.049143         0.009966        0.005623   \n",
              "7        0.549273      0.061264         0.012701        0.006065   \n",
              "8        0.957263      0.204278         0.006493        0.000295   \n",
              "9        0.737614      0.012095         0.006725        0.000231   \n",
              "10       0.693801      0.116830         0.006608        0.000522   \n",
              "11       0.476909      0.019150         0.006624        0.000179   \n",
              "12       1.598797      0.056522         0.009797        0.005485   \n",
              "13       2.035171      0.525766         0.007606        0.001437   \n",
              "14       0.065319      0.013944         0.006325        0.000207   \n",
              "15       0.331346      0.001683         0.007671        0.001328   \n",
              "16       0.487408      0.083897         0.006462        0.000218   \n",
              "17       0.132795      0.011405         0.006704        0.000611   \n",
              "18       0.151371      0.006351         0.006897        0.000983   \n",
              "19       0.422906      0.071693         0.006474        0.000114   \n",
              "\n",
              "   param_activation  param_alpha param_hidden_layer_sizes param_learning_rate  \\\n",
              "0              relu     0.008065                (64, 128)            adaptive   \n",
              "1              relu     0.004558                (64, 128)            constant   \n",
              "2              relu     0.000306                   (128,)            adaptive   \n",
              "3          logistic     0.006275                   (128,)            adaptive   \n",
              "4          logistic     0.005348                   (128,)            adaptive   \n",
              "5              tanh     0.001006                (64, 128)            adaptive   \n",
              "6              relu     0.008699            (64, 128, 32)            constant   \n",
              "7          logistic     0.009756                   (128,)            adaptive   \n",
              "8          logistic     0.002409            (32, 64, 128)            constant   \n",
              "9              relu     0.009193            (32, 64, 128)            adaptive   \n",
              "10             tanh     0.005301                   (128,)            adaptive   \n",
              "11             relu     0.008523            (32, 64, 128)            adaptive   \n",
              "12             tanh     0.007373            (32, 64, 128)            constant   \n",
              "13         logistic     0.002813            (64, 128, 32)            adaptive   \n",
              "14         logistic     0.003063            (64, 128, 32)            constant   \n",
              "15         logistic     0.007822            (32, 64, 128)            adaptive   \n",
              "16             relu     0.007169                (64, 128)            constant   \n",
              "17         logistic     0.009363                   (128,)            constant   \n",
              "18         logistic     0.006333                   (128,)            constant   \n",
              "19             relu     0.006788            (64, 128, 32)            constant   \n",
              "\n",
              "    param_max_iter param_solver  ... mean_test_score  std_test_score  \\\n",
              "0              288        lbfgs  ...        0.961905        0.035635   \n",
              "1              187        lbfgs  ...        0.952381        0.030117   \n",
              "2              393          sgd  ...        0.952381        0.042592   \n",
              "3              352        lbfgs  ...        0.952381        0.042592   \n",
              "4              287         adam  ...        0.961905        0.035635   \n",
              "5              154        lbfgs  ...        0.942857        0.035635   \n",
              "6              266          sgd  ...        0.961905        0.046657   \n",
              "7              364          sgd  ...        0.752381        0.063174   \n",
              "8              363         adam  ...        0.961905        0.035635   \n",
              "9              459          sgd  ...        0.961905        0.035635   \n",
              "10             409        lbfgs  ...        0.923810        0.048562   \n",
              "11             301          sgd  ...        0.971429        0.038095   \n",
              "12             289        lbfgs  ...        0.942857        0.035635   \n",
              "13             316        lbfgs  ...        0.933333        0.038095   \n",
              "14             444         adam  ...        0.352381        0.023328   \n",
              "15             162         adam  ...        0.980952        0.038095   \n",
              "16             388         adam  ...        0.961905        0.035635   \n",
              "17             127         adam  ...        0.923810        0.071270   \n",
              "18             147         adam  ...        0.942857        0.046657   \n",
              "19             271          sgd  ...        0.961905        0.046657   \n",
              "\n",
              "    rank_test_score  split0_train_score  split1_train_score  \\\n",
              "0                 3            0.988095            0.964286   \n",
              "1                10            0.988095            0.976190   \n",
              "2                10            0.952381            0.964286   \n",
              "3                10            0.988095            0.976190   \n",
              "4                 3            0.964286            0.976190   \n",
              "5                13            1.000000            0.976190   \n",
              "6                 3            0.964286            0.976190   \n",
              "7                19            0.702381            0.714286   \n",
              "8                 3            0.988095            0.976190   \n",
              "9                 3            0.976190            0.976190   \n",
              "10               18            1.000000            1.000000   \n",
              "11                2            0.976190            0.976190   \n",
              "12               13            1.000000            1.000000   \n",
              "13               16            0.988095            0.976190   \n",
              "14               20            0.357143            0.357143   \n",
              "15                1            0.976190            0.976190   \n",
              "16                3            0.988095            0.976190   \n",
              "17               17            0.880952            0.916667   \n",
              "18               13            0.928571            0.928571   \n",
              "19                3            0.964286            0.976190   \n",
              "\n",
              "    split2_train_score  split3_train_score  split4_train_score  \\\n",
              "0             1.000000            0.976190            0.964286   \n",
              "1             1.000000            0.976190            0.988095   \n",
              "2             0.976190            0.952381            0.952381   \n",
              "3             1.000000            0.976190            0.976190   \n",
              "4             0.988095            0.964286            0.964286   \n",
              "5             1.000000            0.976190            0.976190   \n",
              "6             0.988095            0.964286            0.964286   \n",
              "7             0.857143            0.845238            0.773810   \n",
              "8             1.000000            0.976190            0.952381   \n",
              "9             0.988095            0.976190            0.976190   \n",
              "10            1.000000            1.000000            1.000000   \n",
              "11            0.988095            0.976190            0.976190   \n",
              "12            1.000000            1.000000            1.000000   \n",
              "13            1.000000            0.976190            0.988095   \n",
              "14            0.345238            0.345238            0.357143   \n",
              "15            0.988095            0.976190            0.976190   \n",
              "16            1.000000            0.976190            0.976190   \n",
              "17            0.952381            0.916667            0.928571   \n",
              "18            0.952381            0.928571            0.952381   \n",
              "19            0.988095            0.964286            0.964286   \n",
              "\n",
              "    mean_train_score  std_train_score  \n",
              "0           0.978571         0.013883  \n",
              "1           0.985714         0.008909  \n",
              "2           0.959524         0.009524  \n",
              "3           0.983333         0.009524  \n",
              "4           0.971429         0.009524  \n",
              "5           0.985714         0.011664  \n",
              "6           0.971429         0.009524  \n",
              "7           0.778571         0.064153  \n",
              "8           0.978571         0.015793  \n",
              "9           0.978571         0.004762  \n",
              "10          1.000000         0.000000  \n",
              "11          0.978571         0.004762  \n",
              "12          1.000000         0.000000  \n",
              "13          0.985714         0.008909  \n",
              "14          0.352381         0.005832  \n",
              "15          0.978571         0.004762  \n",
              "16          0.983333         0.009524  \n",
              "17          0.919048         0.023084  \n",
              "18          0.938095         0.011664  \n",
              "19          0.971429         0.009524  \n",
              "\n",
              "[20 rows x 26 columns]"
            ],
            "text/html": [
              "\n",
              "  <div id=\"df-cc94eebe-e378-4e9f-a9cc-74dce1b9870e\" class=\"colab-df-container\">\n",
              "    <div>\n",
              "<style scoped>\n",
              "    .dataframe tbody tr th:only-of-type {\n",
              "        vertical-align: middle;\n",
              "    }\n",
              "\n",
              "    .dataframe tbody tr th {\n",
              "        vertical-align: top;\n",
              "    }\n",
              "\n",
              "    .dataframe thead th {\n",
              "        text-align: right;\n",
              "    }\n",
              "</style>\n",
              "<table border=\"1\" class=\"dataframe\">\n",
              "  <thead>\n",
              "    <tr style=\"text-align: right;\">\n",
              "      <th></th>\n",
              "      <th>mean_fit_time</th>\n",
              "      <th>std_fit_time</th>\n",
              "      <th>mean_score_time</th>\n",
              "      <th>std_score_time</th>\n",
              "      <th>param_activation</th>\n",
              "      <th>param_alpha</th>\n",
              "      <th>param_hidden_layer_sizes</th>\n",
              "      <th>param_learning_rate</th>\n",
              "      <th>param_max_iter</th>\n",
              "      <th>param_solver</th>\n",
              "      <th>...</th>\n",
              "      <th>mean_test_score</th>\n",
              "      <th>std_test_score</th>\n",
              "      <th>rank_test_score</th>\n",
              "      <th>split0_train_score</th>\n",
              "      <th>split1_train_score</th>\n",
              "      <th>split2_train_score</th>\n",
              "      <th>split3_train_score</th>\n",
              "      <th>split4_train_score</th>\n",
              "      <th>mean_train_score</th>\n",
              "      <th>std_train_score</th>\n",
              "    </tr>\n",
              "  </thead>\n",
              "  <tbody>\n",
              "    <tr>\n",
              "      <th>0</th>\n",
              "      <td>0.425702</td>\n",
              "      <td>0.239983</td>\n",
              "      <td>0.006752</td>\n",
              "      <td>0.000364</td>\n",
              "      <td>relu</td>\n",
              "      <td>0.008065</td>\n",
              "      <td>(64, 128)</td>\n",
              "      <td>adaptive</td>\n",
              "      <td>288</td>\n",
              "      <td>lbfgs</td>\n",
              "      <td>...</td>\n",
              "      <td>0.961905</td>\n",
              "      <td>0.035635</td>\n",
              "      <td>3</td>\n",
              "      <td>0.988095</td>\n",
              "      <td>0.964286</td>\n",
              "      <td>1.000000</td>\n",
              "      <td>0.976190</td>\n",
              "      <td>0.964286</td>\n",
              "      <td>0.978571</td>\n",
              "      <td>0.013883</td>\n",
              "    </tr>\n",
              "    <tr>\n",
              "      <th>1</th>\n",
              "      <td>0.547728</td>\n",
              "      <td>0.156344</td>\n",
              "      <td>0.006896</td>\n",
              "      <td>0.000736</td>\n",
              "      <td>relu</td>\n",
              "      <td>0.004558</td>\n",
              "      <td>(64, 128)</td>\n",
              "      <td>constant</td>\n",
              "      <td>187</td>\n",
              "      <td>lbfgs</td>\n",
              "      <td>...</td>\n",
              "      <td>0.952381</td>\n",
              "      <td>0.030117</td>\n",
              "      <td>10</td>\n",
              "      <td>0.988095</td>\n",
              "      <td>0.976190</td>\n",
              "      <td>1.000000</td>\n",
              "      <td>0.976190</td>\n",
              "      <td>0.988095</td>\n",
              "      <td>0.985714</td>\n",
              "      <td>0.008909</td>\n",
              "    </tr>\n",
              "    <tr>\n",
              "      <th>2</th>\n",
              "      <td>0.307270</td>\n",
              "      <td>0.012984</td>\n",
              "      <td>0.007048</td>\n",
              "      <td>0.000931</td>\n",
              "      <td>relu</td>\n",
              "      <td>0.000306</td>\n",
              "      <td>(128,)</td>\n",
              "      <td>adaptive</td>\n",
              "      <td>393</td>\n",
              "      <td>sgd</td>\n",
              "      <td>...</td>\n",
              "      <td>0.952381</td>\n",
              "      <td>0.042592</td>\n",
              "      <td>10</td>\n",
              "      <td>0.952381</td>\n",
              "      <td>0.964286</td>\n",
              "      <td>0.976190</td>\n",
              "      <td>0.952381</td>\n",
              "      <td>0.952381</td>\n",
              "      <td>0.959524</td>\n",
              "      <td>0.009524</td>\n",
              "    </tr>\n",
              "    <tr>\n",
              "      <th>3</th>\n",
              "      <td>0.404496</td>\n",
              "      <td>0.065145</td>\n",
              "      <td>0.006632</td>\n",
              "      <td>0.000251</td>\n",
              "      <td>logistic</td>\n",
              "      <td>0.006275</td>\n",
              "      <td>(128,)</td>\n",
              "      <td>adaptive</td>\n",
              "      <td>352</td>\n",
              "      <td>lbfgs</td>\n",
              "      <td>...</td>\n",
              "      <td>0.952381</td>\n",
              "      <td>0.042592</td>\n",
              "      <td>10</td>\n",
              "      <td>0.988095</td>\n",
              "      <td>0.976190</td>\n",
              "      <td>1.000000</td>\n",
              "      <td>0.976190</td>\n",
              "      <td>0.976190</td>\n",
              "      <td>0.983333</td>\n",
              "      <td>0.009524</td>\n",
              "    </tr>\n",
              "    <tr>\n",
              "      <th>4</th>\n",
              "      <td>0.279879</td>\n",
              "      <td>0.004381</td>\n",
              "      <td>0.007993</td>\n",
              "      <td>0.001067</td>\n",
              "      <td>logistic</td>\n",
              "      <td>0.005348</td>\n",
              "      <td>(128,)</td>\n",
              "      <td>adaptive</td>\n",
              "      <td>287</td>\n",
              "      <td>adam</td>\n",
              "      <td>...</td>\n",
              "      <td>0.961905</td>\n",
              "      <td>0.035635</td>\n",
              "      <td>3</td>\n",
              "      <td>0.964286</td>\n",
              "      <td>0.976190</td>\n",
              "      <td>0.988095</td>\n",
              "      <td>0.964286</td>\n",
              "      <td>0.964286</td>\n",
              "      <td>0.971429</td>\n",
              "      <td>0.009524</td>\n",
              "    </tr>\n",
              "    <tr>\n",
              "      <th>5</th>\n",
              "      <td>0.740220</td>\n",
              "      <td>0.053926</td>\n",
              "      <td>0.009783</td>\n",
              "      <td>0.003668</td>\n",
              "      <td>tanh</td>\n",
              "      <td>0.001006</td>\n",
              "      <td>(64, 128)</td>\n",
              "      <td>adaptive</td>\n",
              "      <td>154</td>\n",
              "      <td>lbfgs</td>\n",
              "      <td>...</td>\n",
              "      <td>0.942857</td>\n",
              "      <td>0.035635</td>\n",
              "      <td>13</td>\n",
              "      <td>1.000000</td>\n",
              "      <td>0.976190</td>\n",
              "      <td>1.000000</td>\n",
              "      <td>0.976190</td>\n",
              "      <td>0.976190</td>\n",
              "      <td>0.985714</td>\n",
              "      <td>0.011664</td>\n",
              "    </tr>\n",
              "    <tr>\n",
              "      <th>6</th>\n",
              "      <td>0.466728</td>\n",
              "      <td>0.049143</td>\n",
              "      <td>0.009966</td>\n",
              "      <td>0.005623</td>\n",
              "      <td>relu</td>\n",
              "      <td>0.008699</td>\n",
              "      <td>(64, 128, 32)</td>\n",
              "      <td>constant</td>\n",
              "      <td>266</td>\n",
              "      <td>sgd</td>\n",
              "      <td>...</td>\n",
              "      <td>0.961905</td>\n",
              "      <td>0.046657</td>\n",
              "      <td>3</td>\n",
              "      <td>0.964286</td>\n",
              "      <td>0.976190</td>\n",
              "      <td>0.988095</td>\n",
              "      <td>0.964286</td>\n",
              "      <td>0.964286</td>\n",
              "      <td>0.971429</td>\n",
              "      <td>0.009524</td>\n",
              "    </tr>\n",
              "    <tr>\n",
              "      <th>7</th>\n",
              "      <td>0.549273</td>\n",
              "      <td>0.061264</td>\n",
              "      <td>0.012701</td>\n",
              "      <td>0.006065</td>\n",
              "      <td>logistic</td>\n",
              "      <td>0.009756</td>\n",
              "      <td>(128,)</td>\n",
              "      <td>adaptive</td>\n",
              "      <td>364</td>\n",
              "      <td>sgd</td>\n",
              "      <td>...</td>\n",
              "      <td>0.752381</td>\n",
              "      <td>0.063174</td>\n",
              "      <td>19</td>\n",
              "      <td>0.702381</td>\n",
              "      <td>0.714286</td>\n",
              "      <td>0.857143</td>\n",
              "      <td>0.845238</td>\n",
              "      <td>0.773810</td>\n",
              "      <td>0.778571</td>\n",
              "      <td>0.064153</td>\n",
              "    </tr>\n",
              "    <tr>\n",
              "      <th>8</th>\n",
              "      <td>0.957263</td>\n",
              "      <td>0.204278</td>\n",
              "      <td>0.006493</td>\n",
              "      <td>0.000295</td>\n",
              "      <td>logistic</td>\n",
              "      <td>0.002409</td>\n",
              "      <td>(32, 64, 128)</td>\n",
              "      <td>constant</td>\n",
              "      <td>363</td>\n",
              "      <td>adam</td>\n",
              "      <td>...</td>\n",
              "      <td>0.961905</td>\n",
              "      <td>0.035635</td>\n",
              "      <td>3</td>\n",
              "      <td>0.988095</td>\n",
              "      <td>0.976190</td>\n",
              "      <td>1.000000</td>\n",
              "      <td>0.976190</td>\n",
              "      <td>0.952381</td>\n",
              "      <td>0.978571</td>\n",
              "      <td>0.015793</td>\n",
              "    </tr>\n",
              "    <tr>\n",
              "      <th>9</th>\n",
              "      <td>0.737614</td>\n",
              "      <td>0.012095</td>\n",
              "      <td>0.006725</td>\n",
              "      <td>0.000231</td>\n",
              "      <td>relu</td>\n",
              "      <td>0.009193</td>\n",
              "      <td>(32, 64, 128)</td>\n",
              "      <td>adaptive</td>\n",
              "      <td>459</td>\n",
              "      <td>sgd</td>\n",
              "      <td>...</td>\n",
              "      <td>0.961905</td>\n",
              "      <td>0.035635</td>\n",
              "      <td>3</td>\n",
              "      <td>0.976190</td>\n",
              "      <td>0.976190</td>\n",
              "      <td>0.988095</td>\n",
              "      <td>0.976190</td>\n",
              "      <td>0.976190</td>\n",
              "      <td>0.978571</td>\n",
              "      <td>0.004762</td>\n",
              "    </tr>\n",
              "    <tr>\n",
              "      <th>10</th>\n",
              "      <td>0.693801</td>\n",
              "      <td>0.116830</td>\n",
              "      <td>0.006608</td>\n",
              "      <td>0.000522</td>\n",
              "      <td>tanh</td>\n",
              "      <td>0.005301</td>\n",
              "      <td>(128,)</td>\n",
              "      <td>adaptive</td>\n",
              "      <td>409</td>\n",
              "      <td>lbfgs</td>\n",
              "      <td>...</td>\n",
              "      <td>0.923810</td>\n",
              "      <td>0.048562</td>\n",
              "      <td>18</td>\n",
              "      <td>1.000000</td>\n",
              "      <td>1.000000</td>\n",
              "      <td>1.000000</td>\n",
              "      <td>1.000000</td>\n",
              "      <td>1.000000</td>\n",
              "      <td>1.000000</td>\n",
              "      <td>0.000000</td>\n",
              "    </tr>\n",
              "    <tr>\n",
              "      <th>11</th>\n",
              "      <td>0.476909</td>\n",
              "      <td>0.019150</td>\n",
              "      <td>0.006624</td>\n",
              "      <td>0.000179</td>\n",
              "      <td>relu</td>\n",
              "      <td>0.008523</td>\n",
              "      <td>(32, 64, 128)</td>\n",
              "      <td>adaptive</td>\n",
              "      <td>301</td>\n",
              "      <td>sgd</td>\n",
              "      <td>...</td>\n",
              "      <td>0.971429</td>\n",
              "      <td>0.038095</td>\n",
              "      <td>2</td>\n",
              "      <td>0.976190</td>\n",
              "      <td>0.976190</td>\n",
              "      <td>0.988095</td>\n",
              "      <td>0.976190</td>\n",
              "      <td>0.976190</td>\n",
              "      <td>0.978571</td>\n",
              "      <td>0.004762</td>\n",
              "    </tr>\n",
              "    <tr>\n",
              "      <th>12</th>\n",
              "      <td>1.598797</td>\n",
              "      <td>0.056522</td>\n",
              "      <td>0.009797</td>\n",
              "      <td>0.005485</td>\n",
              "      <td>tanh</td>\n",
              "      <td>0.007373</td>\n",
              "      <td>(32, 64, 128)</td>\n",
              "      <td>constant</td>\n",
              "      <td>289</td>\n",
              "      <td>lbfgs</td>\n",
              "      <td>...</td>\n",
              "      <td>0.942857</td>\n",
              "      <td>0.035635</td>\n",
              "      <td>13</td>\n",
              "      <td>1.000000</td>\n",
              "      <td>1.000000</td>\n",
              "      <td>1.000000</td>\n",
              "      <td>1.000000</td>\n",
              "      <td>1.000000</td>\n",
              "      <td>1.000000</td>\n",
              "      <td>0.000000</td>\n",
              "    </tr>\n",
              "    <tr>\n",
              "      <th>13</th>\n",
              "      <td>2.035171</td>\n",
              "      <td>0.525766</td>\n",
              "      <td>0.007606</td>\n",
              "      <td>0.001437</td>\n",
              "      <td>logistic</td>\n",
              "      <td>0.002813</td>\n",
              "      <td>(64, 128, 32)</td>\n",
              "      <td>adaptive</td>\n",
              "      <td>316</td>\n",
              "      <td>lbfgs</td>\n",
              "      <td>...</td>\n",
              "      <td>0.933333</td>\n",
              "      <td>0.038095</td>\n",
              "      <td>16</td>\n",
              "      <td>0.988095</td>\n",
              "      <td>0.976190</td>\n",
              "      <td>1.000000</td>\n",
              "      <td>0.976190</td>\n",
              "      <td>0.988095</td>\n",
              "      <td>0.985714</td>\n",
              "      <td>0.008909</td>\n",
              "    </tr>\n",
              "    <tr>\n",
              "      <th>14</th>\n",
              "      <td>0.065319</td>\n",
              "      <td>0.013944</td>\n",
              "      <td>0.006325</td>\n",
              "      <td>0.000207</td>\n",
              "      <td>logistic</td>\n",
              "      <td>0.003063</td>\n",
              "      <td>(64, 128, 32)</td>\n",
              "      <td>constant</td>\n",
              "      <td>444</td>\n",
              "      <td>adam</td>\n",
              "      <td>...</td>\n",
              "      <td>0.352381</td>\n",
              "      <td>0.023328</td>\n",
              "      <td>20</td>\n",
              "      <td>0.357143</td>\n",
              "      <td>0.357143</td>\n",
              "      <td>0.345238</td>\n",
              "      <td>0.345238</td>\n",
              "      <td>0.357143</td>\n",
              "      <td>0.352381</td>\n",
              "      <td>0.005832</td>\n",
              "    </tr>\n",
              "    <tr>\n",
              "      <th>15</th>\n",
              "      <td>0.331346</td>\n",
              "      <td>0.001683</td>\n",
              "      <td>0.007671</td>\n",
              "      <td>0.001328</td>\n",
              "      <td>logistic</td>\n",
              "      <td>0.007822</td>\n",
              "      <td>(32, 64, 128)</td>\n",
              "      <td>adaptive</td>\n",
              "      <td>162</td>\n",
              "      <td>adam</td>\n",
              "      <td>...</td>\n",
              "      <td>0.980952</td>\n",
              "      <td>0.038095</td>\n",
              "      <td>1</td>\n",
              "      <td>0.976190</td>\n",
              "      <td>0.976190</td>\n",
              "      <td>0.988095</td>\n",
              "      <td>0.976190</td>\n",
              "      <td>0.976190</td>\n",
              "      <td>0.978571</td>\n",
              "      <td>0.004762</td>\n",
              "    </tr>\n",
              "    <tr>\n",
              "      <th>16</th>\n",
              "      <td>0.487408</td>\n",
              "      <td>0.083897</td>\n",
              "      <td>0.006462</td>\n",
              "      <td>0.000218</td>\n",
              "      <td>relu</td>\n",
              "      <td>0.007169</td>\n",
              "      <td>(64, 128)</td>\n",
              "      <td>constant</td>\n",
              "      <td>388</td>\n",
              "      <td>adam</td>\n",
              "      <td>...</td>\n",
              "      <td>0.961905</td>\n",
              "      <td>0.035635</td>\n",
              "      <td>3</td>\n",
              "      <td>0.988095</td>\n",
              "      <td>0.976190</td>\n",
              "      <td>1.000000</td>\n",
              "      <td>0.976190</td>\n",
              "      <td>0.976190</td>\n",
              "      <td>0.983333</td>\n",
              "      <td>0.009524</td>\n",
              "    </tr>\n",
              "    <tr>\n",
              "      <th>17</th>\n",
              "      <td>0.132795</td>\n",
              "      <td>0.011405</td>\n",
              "      <td>0.006704</td>\n",
              "      <td>0.000611</td>\n",
              "      <td>logistic</td>\n",
              "      <td>0.009363</td>\n",
              "      <td>(128,)</td>\n",
              "      <td>constant</td>\n",
              "      <td>127</td>\n",
              "      <td>adam</td>\n",
              "      <td>...</td>\n",
              "      <td>0.923810</td>\n",
              "      <td>0.071270</td>\n",
              "      <td>17</td>\n",
              "      <td>0.880952</td>\n",
              "      <td>0.916667</td>\n",
              "      <td>0.952381</td>\n",
              "      <td>0.916667</td>\n",
              "      <td>0.928571</td>\n",
              "      <td>0.919048</td>\n",
              "      <td>0.023084</td>\n",
              "    </tr>\n",
              "    <tr>\n",
              "      <th>18</th>\n",
              "      <td>0.151371</td>\n",
              "      <td>0.006351</td>\n",
              "      <td>0.006897</td>\n",
              "      <td>0.000983</td>\n",
              "      <td>logistic</td>\n",
              "      <td>0.006333</td>\n",
              "      <td>(128,)</td>\n",
              "      <td>constant</td>\n",
              "      <td>147</td>\n",
              "      <td>adam</td>\n",
              "      <td>...</td>\n",
              "      <td>0.942857</td>\n",
              "      <td>0.046657</td>\n",
              "      <td>13</td>\n",
              "      <td>0.928571</td>\n",
              "      <td>0.928571</td>\n",
              "      <td>0.952381</td>\n",
              "      <td>0.928571</td>\n",
              "      <td>0.952381</td>\n",
              "      <td>0.938095</td>\n",
              "      <td>0.011664</td>\n",
              "    </tr>\n",
              "    <tr>\n",
              "      <th>19</th>\n",
              "      <td>0.422906</td>\n",
              "      <td>0.071693</td>\n",
              "      <td>0.006474</td>\n",
              "      <td>0.000114</td>\n",
              "      <td>relu</td>\n",
              "      <td>0.006788</td>\n",
              "      <td>(64, 128, 32)</td>\n",
              "      <td>constant</td>\n",
              "      <td>271</td>\n",
              "      <td>sgd</td>\n",
              "      <td>...</td>\n",
              "      <td>0.961905</td>\n",
              "      <td>0.046657</td>\n",
              "      <td>3</td>\n",
              "      <td>0.964286</td>\n",
              "      <td>0.976190</td>\n",
              "      <td>0.988095</td>\n",
              "      <td>0.964286</td>\n",
              "      <td>0.964286</td>\n",
              "      <td>0.971429</td>\n",
              "      <td>0.009524</td>\n",
              "    </tr>\n",
              "  </tbody>\n",
              "</table>\n",
              "<p>20 rows × 26 columns</p>\n",
              "</div>\n",
              "    <div class=\"colab-df-buttons\">\n",
              "\n",
              "  <div class=\"colab-df-container\">\n",
              "    <button class=\"colab-df-convert\" onclick=\"convertToInteractive('df-cc94eebe-e378-4e9f-a9cc-74dce1b9870e')\"\n",
              "            title=\"Convert this dataframe to an interactive table.\"\n",
              "            style=\"display:none;\">\n",
              "\n",
              "  <svg xmlns=\"http://www.w3.org/2000/svg\" height=\"24px\" viewBox=\"0 -960 960 960\">\n",
              "    <path d=\"M120-120v-720h720v720H120Zm60-500h600v-160H180v160Zm220 220h160v-160H400v160Zm0 220h160v-160H400v160ZM180-400h160v-160H180v160Zm440 0h160v-160H620v160ZM180-180h160v-160H180v160Zm440 0h160v-160H620v160Z\"/>\n",
              "  </svg>\n",
              "    </button>\n",
              "\n",
              "  <style>\n",
              "    .colab-df-container {\n",
              "      display:flex;\n",
              "      gap: 12px;\n",
              "    }\n",
              "\n",
              "    .colab-df-convert {\n",
              "      background-color: #E8F0FE;\n",
              "      border: none;\n",
              "      border-radius: 50%;\n",
              "      cursor: pointer;\n",
              "      display: none;\n",
              "      fill: #1967D2;\n",
              "      height: 32px;\n",
              "      padding: 0 0 0 0;\n",
              "      width: 32px;\n",
              "    }\n",
              "\n",
              "    .colab-df-convert:hover {\n",
              "      background-color: #E2EBFA;\n",
              "      box-shadow: 0px 1px 2px rgba(60, 64, 67, 0.3), 0px 1px 3px 1px rgba(60, 64, 67, 0.15);\n",
              "      fill: #174EA6;\n",
              "    }\n",
              "\n",
              "    .colab-df-buttons div {\n",
              "      margin-bottom: 4px;\n",
              "    }\n",
              "\n",
              "    [theme=dark] .colab-df-convert {\n",
              "      background-color: #3B4455;\n",
              "      fill: #D2E3FC;\n",
              "    }\n",
              "\n",
              "    [theme=dark] .colab-df-convert:hover {\n",
              "      background-color: #434B5C;\n",
              "      box-shadow: 0px 1px 3px 1px rgba(0, 0, 0, 0.15);\n",
              "      filter: drop-shadow(0px 1px 2px rgba(0, 0, 0, 0.3));\n",
              "      fill: #FFFFFF;\n",
              "    }\n",
              "  </style>\n",
              "\n",
              "    <script>\n",
              "      const buttonEl =\n",
              "        document.querySelector('#df-cc94eebe-e378-4e9f-a9cc-74dce1b9870e button.colab-df-convert');\n",
              "      buttonEl.style.display =\n",
              "        google.colab.kernel.accessAllowed ? 'block' : 'none';\n",
              "\n",
              "      async function convertToInteractive(key) {\n",
              "        const element = document.querySelector('#df-cc94eebe-e378-4e9f-a9cc-74dce1b9870e');\n",
              "        const dataTable =\n",
              "          await google.colab.kernel.invokeFunction('convertToInteractive',\n",
              "                                                    [key], {});\n",
              "        if (!dataTable) return;\n",
              "\n",
              "        const docLinkHtml = 'Like what you see? Visit the ' +\n",
              "          '<a target=\"_blank\" href=https://colab.research.google.com/notebooks/data_table.ipynb>data table notebook</a>'\n",
              "          + ' to learn more about interactive tables.';\n",
              "        element.innerHTML = '';\n",
              "        dataTable['output_type'] = 'display_data';\n",
              "        await google.colab.output.renderOutput(dataTable, element);\n",
              "        const docLink = document.createElement('div');\n",
              "        docLink.innerHTML = docLinkHtml;\n",
              "        element.appendChild(docLink);\n",
              "      }\n",
              "    </script>\n",
              "  </div>\n",
              "\n",
              "\n",
              "    <div id=\"df-7ce30e8a-ac65-4887-9cd8-f4938169ef8e\">\n",
              "      <button class=\"colab-df-quickchart\" onclick=\"quickchart('df-7ce30e8a-ac65-4887-9cd8-f4938169ef8e')\"\n",
              "                title=\"Suggest charts\"\n",
              "                style=\"display:none;\">\n",
              "\n",
              "<svg xmlns=\"http://www.w3.org/2000/svg\" height=\"24px\"viewBox=\"0 0 24 24\"\n",
              "     width=\"24px\">\n",
              "    <g>\n",
              "        <path d=\"M19 3H5c-1.1 0-2 .9-2 2v14c0 1.1.9 2 2 2h14c1.1 0 2-.9 2-2V5c0-1.1-.9-2-2-2zM9 17H7v-7h2v7zm4 0h-2V7h2v10zm4 0h-2v-4h2v4z\"/>\n",
              "    </g>\n",
              "</svg>\n",
              "      </button>\n",
              "\n",
              "<style>\n",
              "  .colab-df-quickchart {\n",
              "      --bg-color: #E8F0FE;\n",
              "      --fill-color: #1967D2;\n",
              "      --hover-bg-color: #E2EBFA;\n",
              "      --hover-fill-color: #174EA6;\n",
              "      --disabled-fill-color: #AAA;\n",
              "      --disabled-bg-color: #DDD;\n",
              "  }\n",
              "\n",
              "  [theme=dark] .colab-df-quickchart {\n",
              "      --bg-color: #3B4455;\n",
              "      --fill-color: #D2E3FC;\n",
              "      --hover-bg-color: #434B5C;\n",
              "      --hover-fill-color: #FFFFFF;\n",
              "      --disabled-bg-color: #3B4455;\n",
              "      --disabled-fill-color: #666;\n",
              "  }\n",
              "\n",
              "  .colab-df-quickchart {\n",
              "    background-color: var(--bg-color);\n",
              "    border: none;\n",
              "    border-radius: 50%;\n",
              "    cursor: pointer;\n",
              "    display: none;\n",
              "    fill: var(--fill-color);\n",
              "    height: 32px;\n",
              "    padding: 0;\n",
              "    width: 32px;\n",
              "  }\n",
              "\n",
              "  .colab-df-quickchart:hover {\n",
              "    background-color: var(--hover-bg-color);\n",
              "    box-shadow: 0 1px 2px rgba(60, 64, 67, 0.3), 0 1px 3px 1px rgba(60, 64, 67, 0.15);\n",
              "    fill: var(--button-hover-fill-color);\n",
              "  }\n",
              "\n",
              "  .colab-df-quickchart-complete:disabled,\n",
              "  .colab-df-quickchart-complete:disabled:hover {\n",
              "    background-color: var(--disabled-bg-color);\n",
              "    fill: var(--disabled-fill-color);\n",
              "    box-shadow: none;\n",
              "  }\n",
              "\n",
              "  .colab-df-spinner {\n",
              "    border: 2px solid var(--fill-color);\n",
              "    border-color: transparent;\n",
              "    border-bottom-color: var(--fill-color);\n",
              "    animation:\n",
              "      spin 1s steps(1) infinite;\n",
              "  }\n",
              "\n",
              "  @keyframes spin {\n",
              "    0% {\n",
              "      border-color: transparent;\n",
              "      border-bottom-color: var(--fill-color);\n",
              "      border-left-color: var(--fill-color);\n",
              "    }\n",
              "    20% {\n",
              "      border-color: transparent;\n",
              "      border-left-color: var(--fill-color);\n",
              "      border-top-color: var(--fill-color);\n",
              "    }\n",
              "    30% {\n",
              "      border-color: transparent;\n",
              "      border-left-color: var(--fill-color);\n",
              "      border-top-color: var(--fill-color);\n",
              "      border-right-color: var(--fill-color);\n",
              "    }\n",
              "    40% {\n",
              "      border-color: transparent;\n",
              "      border-right-color: var(--fill-color);\n",
              "      border-top-color: var(--fill-color);\n",
              "    }\n",
              "    60% {\n",
              "      border-color: transparent;\n",
              "      border-right-color: var(--fill-color);\n",
              "    }\n",
              "    80% {\n",
              "      border-color: transparent;\n",
              "      border-right-color: var(--fill-color);\n",
              "      border-bottom-color: var(--fill-color);\n",
              "    }\n",
              "    90% {\n",
              "      border-color: transparent;\n",
              "      border-bottom-color: var(--fill-color);\n",
              "    }\n",
              "  }\n",
              "</style>\n",
              "\n",
              "      <script>\n",
              "        async function quickchart(key) {\n",
              "          const quickchartButtonEl =\n",
              "            document.querySelector('#' + key + ' button');\n",
              "          quickchartButtonEl.disabled = true;  // To prevent multiple clicks.\n",
              "          quickchartButtonEl.classList.add('colab-df-spinner');\n",
              "          try {\n",
              "            const charts = await google.colab.kernel.invokeFunction(\n",
              "                'suggestCharts', [key], {});\n",
              "          } catch (error) {\n",
              "            console.error('Error during call to suggestCharts:', error);\n",
              "          }\n",
              "          quickchartButtonEl.classList.remove('colab-df-spinner');\n",
              "          quickchartButtonEl.classList.add('colab-df-quickchart-complete');\n",
              "        }\n",
              "        (() => {\n",
              "          let quickchartButtonEl =\n",
              "            document.querySelector('#df-7ce30e8a-ac65-4887-9cd8-f4938169ef8e button');\n",
              "          quickchartButtonEl.style.display =\n",
              "            google.colab.kernel.accessAllowed ? 'block' : 'none';\n",
              "        })();\n",
              "      </script>\n",
              "    </div>\n",
              "\n",
              "  <div id=\"id_da4119c1-35c1-40ce-830d-07dd7a6026af\">\n",
              "    <style>\n",
              "      .colab-df-generate {\n",
              "        background-color: #E8F0FE;\n",
              "        border: none;\n",
              "        border-radius: 50%;\n",
              "        cursor: pointer;\n",
              "        display: none;\n",
              "        fill: #1967D2;\n",
              "        height: 32px;\n",
              "        padding: 0 0 0 0;\n",
              "        width: 32px;\n",
              "      }\n",
              "\n",
              "      .colab-df-generate:hover {\n",
              "        background-color: #E2EBFA;\n",
              "        box-shadow: 0px 1px 2px rgba(60, 64, 67, 0.3), 0px 1px 3px 1px rgba(60, 64, 67, 0.15);\n",
              "        fill: #174EA6;\n",
              "      }\n",
              "\n",
              "      [theme=dark] .colab-df-generate {\n",
              "        background-color: #3B4455;\n",
              "        fill: #D2E3FC;\n",
              "      }\n",
              "\n",
              "      [theme=dark] .colab-df-generate:hover {\n",
              "        background-color: #434B5C;\n",
              "        box-shadow: 0px 1px 3px 1px rgba(0, 0, 0, 0.15);\n",
              "        filter: drop-shadow(0px 1px 2px rgba(0, 0, 0, 0.3));\n",
              "        fill: #FFFFFF;\n",
              "      }\n",
              "    </style>\n",
              "    <button class=\"colab-df-generate\" onclick=\"generateWithVariable('results_df')\"\n",
              "            title=\"Generate code using this dataframe.\"\n",
              "            style=\"display:none;\">\n",
              "\n",
              "  <svg xmlns=\"http://www.w3.org/2000/svg\" height=\"24px\"viewBox=\"0 0 24 24\"\n",
              "       width=\"24px\">\n",
              "    <path d=\"M7,19H8.4L18.45,9,17,7.55,7,17.6ZM5,21V16.75L18.45,3.32a2,2,0,0,1,2.83,0l1.4,1.43a1.91,1.91,0,0,1,.58,1.4,1.91,1.91,0,0,1-.58,1.4L9.25,21ZM18.45,9,17,7.55Zm-12,3A5.31,5.31,0,0,0,4.9,8.1,5.31,5.31,0,0,0,1,6.5,5.31,5.31,0,0,0,4.9,4.9,5.31,5.31,0,0,0,6.5,1,5.31,5.31,0,0,0,8.1,4.9,5.31,5.31,0,0,0,12,6.5,5.46,5.46,0,0,0,6.5,12Z\"/>\n",
              "  </svg>\n",
              "    </button>\n",
              "    <script>\n",
              "      (() => {\n",
              "      const buttonEl =\n",
              "        document.querySelector('#id_da4119c1-35c1-40ce-830d-07dd7a6026af button.colab-df-generate');\n",
              "      buttonEl.style.display =\n",
              "        google.colab.kernel.accessAllowed ? 'block' : 'none';\n",
              "\n",
              "      buttonEl.onclick = () => {\n",
              "        google.colab.notebook.generateWithVariable('results_df');\n",
              "      }\n",
              "      })();\n",
              "    </script>\n",
              "  </div>\n",
              "\n",
              "    </div>\n",
              "  </div>\n"
            ],
            "application/vnd.google.colaboratory.intrinsic+json": {
              "type": "dataframe",
              "variable_name": "results_df"
            }
          },
          "metadata": {},
          "execution_count": 14
        }
      ]
    },
    {
      "cell_type": "code",
      "source": [
        "#Predict test data on the best random search generated model\n",
        "print(classification_report(y_test, random_search.predict(X_test)))\n",
        "\n",
        "#Retrain the model with full training data\n",
        "new_mlp =  MLPClassifier(random_state=seed, **random_search.best_params_)\n",
        "new_mlp.fit(X_train, y_train)\n",
        "print(\"Retreinando o modelo explicitamente:\")\n",
        "print(classification_report(y_test, new_mlp.predict(X_test)))"
      ],
      "metadata": {
        "colab": {
          "base_uri": "https://localhost:8080/"
        },
        "id": "EYkKzAcJ2t2Z",
        "outputId": "a4f4d0b3-64b7-4c42-98cc-8d126b9246d7"
      },
      "execution_count": 15,
      "outputs": [
        {
          "output_type": "stream",
          "name": "stdout",
          "text": [
            "                 precision    recall  f1-score   support\n",
            "\n",
            "    Iris-setosa       1.00      1.00      1.00        19\n",
            "Iris-versicolor       1.00      1.00      1.00        13\n",
            " Iris-virginica       1.00      1.00      1.00        13\n",
            "\n",
            "       accuracy                           1.00        45\n",
            "      macro avg       1.00      1.00      1.00        45\n",
            "   weighted avg       1.00      1.00      1.00        45\n",
            "\n",
            "Retreinando o modelo explicitamente:\n",
            "                 precision    recall  f1-score   support\n",
            "\n",
            "    Iris-setosa       1.00      1.00      1.00        19\n",
            "Iris-versicolor       1.00      1.00      1.00        13\n",
            " Iris-virginica       1.00      1.00      1.00        13\n",
            "\n",
            "       accuracy                           1.00        45\n",
            "      macro avg       1.00      1.00      1.00        45\n",
            "   weighted avg       1.00      1.00      1.00        45\n",
            "\n"
          ]
        }
      ]
    },
    {
      "cell_type": "markdown",
      "source": [
        "Não é necessário retreinar o modelo explicitamente. Por default, existe um parâmetro \"refit\" tanto na random_search, quanto na grid_search que retreina o modelo usando todos os dados para o treinamento em vez do subconjunto utilizado no cross validation da busca pelo melhor conjunto de parâmetros."
      ],
      "metadata": {
        "id": "SaRmJQjNA4-T"
      }
    },
    {
      "cell_type": "markdown",
      "metadata": {
        "id": "I3muNPdunOKL"
      },
      "source": [
        "## Um dataset mais complicado\n",
        "\n",
        "Agora que já vimos algumas características do MLP no dataset que já conhecemos, como podemos resolver um desafio maior?\n",
        "\n",
        "O problema das duas luas é usado para analisar a capacidade de um modelo em lidar com fronteiras de decisão complexas.\n",
        "\n",
        "Alguns desafios:\n",
        "- fronteira de decisão não linear (duas semi-luas intercaladas)\n",
        "- sobreposição de classes com ruído alto"
      ]
    },
    {
      "cell_type": "code",
      "execution_count": 16,
      "metadata": {
        "id": "TTLKD9yOnOKL"
      },
      "outputs": [],
      "source": [
        "def plot_dataset(X, y):\n",
        "    # cores e simbolos para as classses\n",
        "    colors = {0: \"steelblue\", 1: \"darkorange\", 2: \"mediumseagreen\"}\n",
        "    markers = {0: \"s\", 1: \"^\", 2:\"o\"}\n",
        "    plt.scatter(X[y==0, 0],X[y==0, 1], c=colors[0], marker=markers[0] )\n",
        "\n",
        "    plt.scatter(X[y==1, 0],  X[y==1, 1], c=colors[1], marker=markers[1])\n",
        "    plt.show()"
      ]
    },
    {
      "cell_type": "code",
      "execution_count": 17,
      "metadata": {
        "colab": {
          "base_uri": "https://localhost:8080/",
          "height": 430
        },
        "id": "7QNfwe-inOKL",
        "outputId": "9d17fce6-334c-4fd1-9176-7023033290e7"
      },
      "outputs": [
        {
          "output_type": "display_data",
          "data": {
            "text/plain": [
              "<Figure size 640x480 with 1 Axes>"
            ],
            "image/png": "[encoded data removed]"
          },
          "metadata": {}
        }
      ],
      "source": [
        "from sklearn.datasets import make_moons\n",
        "from sklearn.preprocessing import StandardScaler\n",
        "\n",
        "from matplotlib.colors import ListedColormap\n",
        "\n",
        "# criação do dataset\n",
        "X, y = make_moons(n_samples=1000, noise=0.15, random_state=42)\n",
        "\n",
        "# visualização do dataset\n",
        "plot_dataset(X, y)\n"
      ]
    },
    {
      "cell_type": "code",
      "execution_count": 18,
      "metadata": {
        "colab": {
          "base_uri": "https://localhost:8080/"
        },
        "id": "-7PtvWChnOKL",
        "outputId": "970631eb-39f2-4d52-b6ec-ff68d89ef37d"
      },
      "outputs": [
        {
          "output_type": "execute_result",
          "data": {
            "text/plain": [
              "((700, 2), (300, 2))"
            ]
          },
          "metadata": {},
          "execution_count": 18
        }
      ],
      "source": [
        "#Separando o conjunto de dados em treinamento e teste\n",
        "X_train, X_test, y_train, y_test = train_test_split(X, y, test_size=0.3, random_state=seed, shuffle=True)\n",
        "X_train.shape, X_test.shape"
      ]
    },
    {
      "cell_type": "code",
      "execution_count": 19,
      "metadata": {
        "colab": {
          "base_uri": "https://localhost:8080/",
          "height": 524
        },
        "id": "ossIMWHunOKL",
        "outputId": "69cf6951-daff-4e40-ba9a-f195976c8ca9"
      },
      "outputs": [
        {
          "output_type": "stream",
          "name": "stdout",
          "text": [
            "MLPClassifier(hidden_layer_sizes=30, random_state=42)\n",
            "Treinamento score 0.90\n",
            "Teste score 0.92\n"
          ]
        },
        {
          "output_type": "display_data",
          "data": {
            "text/plain": [
              "<Figure size 640x480 with 1 Axes>"
            ],
            "image/png": "[encoded data removed]"
          },
          "metadata": {}
        }
      ],
      "source": [
        "# vamos classificar esse dataset usando um MLP??\n",
        "model_a = MLPClassifier(hidden_layer_sizes=30, random_state=seed)\n",
        "#treinando o modelo\n",
        "model_a.fit(X_train, y_train)\n",
        "#Resultados do classificador\n",
        "print(model_a)\n",
        "#Resultados do classificador\n",
        "print(\"Treinamento score %.2f\" %(model_a.score(X_train, y_train)))\n",
        "print(\"Teste score %.2f\" %(model_a.score(X_test, y_test)))\n",
        "\n",
        "show_decision_region(pd.DataFrame(X_test), y_test, model_a)"
      ]
    },
    {
      "cell_type": "code",
      "execution_count": 20,
      "metadata": {
        "colab": {
          "base_uri": "https://localhost:8080/",
          "height": 467
        },
        "id": "45D8X5QynOKL",
        "outputId": "41e834de-b778-46c9-ee22-c50b8f7e9473"
      },
      "outputs": [
        {
          "output_type": "execute_result",
          "data": {
            "text/plain": [
              "[<matplotlib.lines.Line2D at 0x7cf2bb145dd0>]"
            ]
          },
          "metadata": {},
          "execution_count": 20
        },
        {
          "output_type": "display_data",
          "data": {
            "text/plain": [
              "<Figure size 640x480 with 1 Axes>"
            ],
            "image/png": "[encoded data removed]"
          },
          "metadata": {}
        }
      ],
      "source": [
        "# como se comportou o treinamento do modelo?\n",
        "plt.xlabel('Número de Iterações')\n",
        "plt.ylabel('Loss')\n",
        "plt.plot(model_a.loss_curve_)"
      ]
    },
    {
      "cell_type": "markdown",
      "metadata": {
        "id": "TKS0Teu_nOKM"
      },
      "source": [
        "Teste aumentar o número de neurônios!"
      ]
    },
    {
      "cell_type": "markdown",
      "metadata": {
        "id": "vkxbBilunOKM"
      },
      "source": [
        "Um MLP de arquitetura 10-10-10 tem desempenho melhor do que um de 1 camada com 30 neurônios?"
      ]
    },
    {
      "cell_type": "code",
      "execution_count": 21,
      "metadata": {
        "colab": {
          "base_uri": "https://localhost:8080/",
          "height": 796
        },
        "id": "vAaO8qtbnOKM",
        "outputId": "d8259394-5115-4080-ef08-c4ca339d51e5"
      },
      "outputs": [
        {
          "output_type": "stream",
          "name": "stdout",
          "text": [
            "MLPClassifier(hidden_layer_sizes=(10, 10, 10), random_state=42)\n",
            "Treinamento score 0.99\n",
            "Teste score 0.99\n",
            "Classification Report:\n",
            "              precision    recall  f1-score   support\n",
            "\n",
            "           0       0.99      1.00      0.99       156\n",
            "           1       1.00      0.99      0.99       144\n",
            "\n",
            "    accuracy                           0.99       300\n",
            "   macro avg       0.99      0.99      0.99       300\n",
            "weighted avg       0.99      0.99      0.99       300\n",
            "\n",
            "Confusion Matrix:\n",
            "[[156   0]\n",
            " [  2 142]]\n",
            "\n",
            " Labels:[0 1] \n",
            "\n"
          ]
        },
        {
          "output_type": "execute_result",
          "data": {
            "text/plain": [
              "<sklearn.metrics._plot.confusion_matrix.ConfusionMatrixDisplay at 0x7cf2bdf9f250>"
            ]
          },
          "metadata": {},
          "execution_count": 21
        },
        {
          "output_type": "display_data",
          "data": {
            "text/plain": [
              "<Figure size 640x480 with 2 Axes>"
            ],
            "image/png": "[encoded data removed]"
          },
          "metadata": {}
        }
      ],
      "source": [
        "# vamos classificar esse dataset usando um MLP??\n",
        "model_a = MLPClassifier(hidden_layer_sizes=(10, 10, 10), random_state=seed)\n",
        "#treinando o modelo\n",
        "model_a.fit(X_train, y_train)\n",
        "#Resultados do classificador\n",
        "y_pred_a = model_a.predict(X_test)\n",
        "print(model_a)\n",
        "\n",
        "#Resultados do classificador\n",
        "print(\"Treinamento score %.2f\" %(model_a.score(X_train, y_train)))\n",
        "print(\"Teste score %.2f\" %(model_a.score(X_test, y_test)))\n",
        "print(\"Classification Report:\")\n",
        "print(classification_report(y_test, y_pred_a))\n",
        "\n",
        "print(\"Confusion Matrix:\")\n",
        "# a função confusion matrix retorna uma matriz com a contagem de como cada\n",
        "# uma das classes está sendo classificada corretamente ou erroneamente\n",
        "cm = confusion_matrix(y_test, y_pred_a, labels=model_a.classes_)\n",
        "print(cm)\n",
        "print(f\"\\n Labels:{model_a.classes_} \\n\")\n",
        "\n",
        "#display_labels - define como será a ordem das classes na matriz\n",
        "disp_cm = ConfusionMatrixDisplay(confusion_matrix=cm,display_labels=model_a.classes_)\n",
        "disp_cm.plot()"
      ]
    },
    {
      "cell_type": "code",
      "source": [
        "show_decision_region(pd.DataFrame(X_test), y_test, model_a)"
      ],
      "metadata": {
        "colab": {
          "base_uri": "https://localhost:8080/",
          "height": 472
        },
        "id": "Aa-RpBSQEY_B",
        "outputId": "8abdb2f9-a1c6-491f-aa6f-0efd6338eb2c"
      },
      "execution_count": 22,
      "outputs": [
        {
          "output_type": "display_data",
          "data": {
            "text/plain": [
              "<Figure size 640x480 with 1 Axes>"
            ],
            "image/png": "[encoded data removed]"
          },
          "metadata": {}
        }
      ]
    },
    {
      "cell_type": "markdown",
      "source": [
        "E se 32-32-32?"
      ],
      "metadata": {
        "id": "Kota_skACfSp"
      }
    },
    {
      "cell_type": "code",
      "source": [
        "# vamos classificar esse dataset usando um MLP??\n",
        "model_b = MLPClassifier(hidden_layer_sizes=(32, 32, 32), random_state=seed)\n",
        "#treinando o modelo\n",
        "model_b.fit(X_train, y_train)\n",
        "#Resultados do classificador\n",
        "y_pred_b = model_b.predict(X_test)\n",
        "print(model_b)\n",
        "#Resultados do classificador\n",
        "print(\"Treinamento score %.2f\" %(model_b.score(X_train, y_train)))\n",
        "print(\"Teste score %.2f\" %(model_b.score(X_test, y_test)))\n",
        "print(\"Classification Report:\")\n",
        "print(classification_report(y_test, model_b.predict(X_test)))\n",
        "cm = confusion_matrix(y_test, y_pred_b, labels=model_b.classes_)\n",
        "print(cm)\n",
        "\n",
        "show_decision_region(pd.DataFrame(X_test), y_test, model_b)"
      ],
      "metadata": {
        "colab": {
          "base_uri": "https://localhost:8080/",
          "height": 732
        },
        "id": "Oyp6UDXZCeCa",
        "outputId": "26a23f96-28ff-496e-a096-bc401c093e15"
      },
      "execution_count": 30,
      "outputs": [
        {
          "output_type": "stream",
          "name": "stdout",
          "text": [
            "MLPClassifier(hidden_layer_sizes=(32, 32, 32), random_state=42)\n",
            "Treinamento score 0.99\n",
            "Teste score 1.00\n",
            "Classification Report:\n",
            "              precision    recall  f1-score   support\n",
            "\n",
            "           0       0.99      1.00      1.00       156\n",
            "           1       1.00      0.99      1.00       144\n",
            "\n",
            "    accuracy                           1.00       300\n",
            "   macro avg       1.00      1.00      1.00       300\n",
            "weighted avg       1.00      1.00      1.00       300\n",
            "\n",
            "[[156   0]\n",
            " [  1 143]]\n"
          ]
        },
        {
          "output_type": "display_data",
          "data": {
            "text/plain": [
              "<Figure size 640x480 with 1 Axes>"
            ],
            "image/png": "[encoded data removed]"
          },
          "metadata": {}
        }
      ]
    },
    {
      "cell_type": "markdown",
      "metadata": {
        "id": "3Ak16NHWnOKM"
      },
      "source": [
        "À medida que o número de neurônios e de camadas em uma rede neural aumenta, conseguimos criar regiões de decisão mais complexas!\n",
        "\n",
        "... Cuidado com overfitting!"
      ]
    },
    {
      "cell_type": "markdown",
      "metadata": {
        "id": "pRjJKef0nOKM"
      },
      "source": [
        "[Divirtam-se!](https://playground.tensorflow.org/)"
      ]
    }
  ],
  "metadata": {
    "kernelspec": {
      "display_name": "Python 3",
      "language": "python",
      "name": "python3"
    },
    "language_info": {
      "codemirror_mode": {
        "name": "ipython",
        "version": 3
      },
      "file_extension": ".py",
      "mimetype": "text/x-python",
      "name": "python",
      "nbconvert_exporter": "python",
      "pygments_lexer": "ipython3",
      "version": "3.11.9"
    },
    "orig_nbformat": 4,
    "colab": {
      "provenance": [],
      "toc_visible": true
    }
  },
  "nbformat": 4,
  "nbformat_minor": 0
}